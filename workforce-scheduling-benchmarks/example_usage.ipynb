{
 "cells": [
  {
   "cell_type": "markdown",
   "metadata": {},
   "source": [
    "# Workforce Scheduling Benchmarks - Examples\n",
    "\n",
    "This notebook demonstrates how to use the workforce scheduling benchmark framework.\n",
    "\n",
    "**Author:** Ernest Owusu  \n",
    "**Purpose:** PhD Application Portfolio"
   ]
  },
  {
   "cell_type": "markdown",
   "metadata": {},
   "source": [
    "## Setup"
   ]
  },
  {
   "cell_type": "code",
   "execution_count": null,
   "metadata": {},
   "outputs": [],
   "source": [
    "# Import libraries\n",
    "import numpy as np\n",
    "import pandas as pd\n",
    "import matplotlib.pyplot as plt\n",
    "import seaborn as sns\n",
    "\n",
    "# Import our modules\n",
    "from data_generator import generate_scheduling_problem, print_problem_summary\n",
    "from greedy_scheduler import GreedyScheduler, print_solution_summary\n",
    "from genetic_scheduler import GeneticScheduler\n",
    "\n",
    "# Set style\n",
    "sns.set_style('whitegrid')\n",
    "plt.rcParams['figure.figsize'] = (12, 6)"
   ]
  },
  {
   "cell_type": "markdown",
   "metadata": {},
   "source": [
    "## Example 1: Generate a Scheduling Problem"
   ]
  },
  {
   "cell_type": "code",
   "execution_count": null,
   "metadata": {},
   "outputs": [],
   "source": [
    "# Create a small problem instance\n",
    "problem = generate_scheduling_problem(\n",
    "    num_workers=15,\n",
    "    num_shifts=8,\n",
    "    num_days=7,\n",
    "    seed=42\n",
    ")\n",
    "\n",
    "print_problem_summary(problem)"
   ]
  },
  {
   "cell_type": "markdown",
   "metadata": {},
   "source": [
    "## Example 2: Solve with Greedy Algorithm"
   ]
  },
  {
   "cell_type": "code",
   "execution_count": null,
   "metadata": {},
   "outputs": [],
   "source": [
    "# Initialize greedy scheduler\n",
    "greedy = GreedyScheduler(priority_metric='cost')\n",
    "\n",
    "# Solve\n",
    "greedy_solution = greedy.solve(problem)\n",
    "\n",
    "# Print results\n",
    "print_solution_summary(greedy_solution, problem)"
   ]
  },
  {
   "cell_type": "markdown",
   "metadata": {},
   "source": [
    "## Example 3: Solve with Genetic Algorithm"
   ]
  },
  {
   "cell_type": "code",
   "execution_count": null,
   "metadata": {},
   "outputs": [],
   "source": [
    "# Initialize genetic algorithm\n",
    "ga = GeneticScheduler(\n",
    "    population_size=50,\n",
    "    generations=30,\n",
    "    crossover_rate=0.8,\n",
    "    mutation_rate=0.15\n",
    ")\n",
    "\n",
    "# Solve\n",
    "ga_solution = ga.solve(problem)\n",
    "\n",
    "# Print results\n",
    "print_solution_summary(ga_solution, problem)"
   ]
  },
  {
   "cell_type": "markdown",
   "metadata": {},
   "source": [
    "## Example 4: Compare Algorithms"
   ]
  },
  {
   "cell_type": "code",
   "execution_count": null,
   "metadata": {},
   "outputs": [],
   "source": [
    "# Compare different approaches\n",
    "results = []\n",
    "\n",
    "# Greedy with different priorities\n",
    "for priority in ['cost', 'skills', 'balanced']:\n",
    "    scheduler = GreedyScheduler(priority_metric=priority)\n",
    "    solution = scheduler.solve(problem)\n",
    "    results.append({\n",
    "        'Algorithm': f'Greedy-{priority}',\n",
    "        'Cost': solution.total_cost,\n",
    "        'Coverage': solution.coverage_rate * 100,\n",
    "        'Time': solution.solve_time\n",
    "    })\n",
    "\n",
    "# Genetic algorithm\n",
    "results.append({\n",
    "    'Algorithm': 'Genetic',\n",
    "    'Cost': ga_solution.total_cost,\n",
    "    'Coverage': ga_solution.coverage_rate * 100,\n",
    "    'Time': ga_solution.solve_time\n",
    "})\n",
    "\n",
    "# Create comparison DataFrame\n",
    "comparison_df = pd.DataFrame(results)\n",
    "comparison_df"
   ]
  },
  {
   "cell_type": "markdown",
   "metadata": {},
   "source": [
    "## Example 5: Visualize Comparison"
   ]
  },
  {
   "cell_type": "code",
   "execution_count": null,
   "metadata": {},
   "outputs": [],
   "source": [
    "# Create comparison plots\n",
    "fig, axes = plt.subplots(1, 3, figsize=(15, 4))\n",
    "\n",
    "# Cost comparison\n",
    "axes[0].bar(comparison_df['Algorithm'], comparison_df['Cost'], color='skyblue', edgecolor='black')\n",
    "axes[0].set_ylabel('Total Cost ($)', fontsize=12)\n",
    "axes[0].set_title('Cost Comparison', fontsize=13, fontweight='bold')\n",
    "axes[0].tick_params(axis='x', rotation=45)\n",
    "axes[0].grid(axis='y', alpha=0.3)\n",
    "\n",
    "# Coverage comparison\n",
    "axes[1].bar(comparison_df['Algorithm'], comparison_df['Coverage'], color='lightgreen', edgecolor='black')\n",
    "axes[1].set_ylabel('Coverage Rate (%)', fontsize=12)\n",
    "axes[1].set_title('Coverage Comparison', fontsize=13, fontweight='bold')\n",
    "axes[1].set_ylim([90, 101])\n",
    "axes[1].tick_params(axis='x', rotation=45)\n",
    "axes[1].grid(axis='y', alpha=0.3)\n",
    "\n",
    "# Time comparison\n",
    "axes[2].bar(comparison_df['Algorithm'], comparison_df['Time'], color='salmon', edgecolor='black')\n",
    "axes[2].set_ylabel('Solve Time (seconds)', fontsize=12)\n",
    "axes[2].set_title('Time Comparison', fontsize=13, fontweight='bold')\n",
    "axes[2].tick_params(axis='x', rotation=45)\n",
    "axes[2].set_yscale('log')\n",
    "axes[2].grid(axis='y', alpha=0.3)\n",
    "\n",
    "plt.tight_layout()\n",
    "plt.show()"
   ]
  },
  {
   "cell_type": "markdown",
   "metadata": {},
   "source": [
    "## Example 6: Analyze Worker Utilization"
   ]
  },
  {
   "cell_type": "code",
   "execution_count": null,
   "metadata": {},
   "outputs": [],
   "source": [
    "# Analyze how work is distributed across workers\n",
    "worker_assignments = {}\n",
    "\n",
    "for assignment in greedy_solution.assignments:\n",
    "    worker_id = assignment.worker_id\n",
    "    worker_assignments[worker_id] = worker_assignments.get(worker_id, 0) + 1\n",
    "\n",
    "# Create histogram\n",
    "plt.figure(figsize=(10, 5))\n",
    "plt.hist(worker_assignments.values(), bins=range(0, max(worker_assignments.values()) + 2), \n",
    "         color='steelblue', edgecolor='black', alpha=0.7)\n",
    "plt.xlabel('Number of Shifts Assigned', fontsize=12)\n",
    "plt.ylabel('Number of Workers', fontsize=12)\n",
    "plt.title('Worker Utilization Distribution (Greedy Algorithm)', fontsize=14, fontweight='bold')\n",
    "plt.grid(axis='y', alpha=0.3)\n",
    "plt.show()\n",
    "\n",
    "print(f\"Average shifts per worker: {np.mean(list(worker_assignments.values())):.2f}\")\n",
    "print(f\"Std deviation: {np.std(list(worker_assignments.values())):.2f}\")"
   ]
  },
  {
   "cell_type": "markdown",
   "metadata": {},
   "source": [
    "## Example 7: Scalability Analysis"
   ]
  },
  {
   "cell_type": "code",
   "execution_count": null,
   "metadata": {},
   "outputs": [],
   "source": [
    "# Test how algorithms scale with problem size\n",
    "problem_sizes = [(10, 5, 7), (20, 10, 7), (30, 15, 7)]\n",
    "scalability_results = []\n",
    "\n",
    "for workers, shifts, days in problem_sizes:\n",
    "    problem = generate_scheduling_problem(workers, shifts, days, seed=42)\n",
    "    \n",
    "    # Greedy\n",
    "    greedy = GreedyScheduler()\n",
    "    greedy_sol = greedy.solve(problem)\n",
    "    \n",
    "    scalability_results.append({\n",
    "        'Size': f'{workers}W',\n",
    "        'Algorithm': 'Greedy',\n",
    "        'Time': greedy_sol.solve_time,\n",
    "        'Cost': greedy_sol.total_cost\n",
    "    })\n",
    "    \n",
    "    # Genetic\n",
    "    ga = GeneticScheduler(population_size=50, generations=20)\n",
    "    ga_sol = ga.solve(problem)\n",
    "    \n",
    "    scalability_results.append({\n",
    "        'Size': f'{workers}W',\n",
    "        'Algorithm': 'Genetic',\n",
    "        'Time': ga_sol.solve_time,\n",
    "        'Cost': ga_sol.total_cost\n",
    "    })\n",
    "\n",
    "scale_df = pd.DataFrame(scalability_results)\n",
    "\n",
    "# Plot scalability\n",
    "fig, axes = plt.subplots(1, 2, figsize=(14, 5))\n",
    "\n",
    "for algo in ['Greedy', 'Genetic']:\n",
    "    data = scale_df[scale_df['Algorithm'] == algo]\n",
    "    axes[0].plot(data['Size'], data['Time'], marker='o', label=algo, linewidth=2)\n",
    "\n",
    "axes[0].set_xlabel('Problem Size', fontsize=12)\n",
    "axes[0].set_ylabel('Solve Time (seconds)', fontsize=12)\n",
    "axes[0].set_title('Scalability: Solution Time', fontsize=13, fontweight='bold')\n",
    "axes[0].legend()\n",
    "axes[0].grid(alpha=0.3)\n",
    "\n",
    "for algo in ['Greedy', 'Genetic']:\n",
    "    data = scale_df[scale_df['Algorithm'] == algo]\n",
    "    axes[1].plot(data['Size'], data['Cost'], marker='s', label=algo, linewidth=2)\n",
    "\n",
    "axes[1].set_xlabel('Problem Size', fontsize=12)\n",
    "axes[1].set_ylabel('Total Cost ($)', fontsize=12)\n",
    "axes[1].set_title('Scalability: Solution Quality', fontsize=13, fontweight='bold')\n",
    "axes[1].legend()\n",
    "axes[1].grid(alpha=0.3)\n",
    "\n",
    "plt.tight_layout()\n",
    "plt.show()"
   ]
  },
  {
   "cell_type": "markdown",
   "metadata": {},
   "source": [
    "## Conclusion\n",
    "\n",
    "This notebook demonstrated:\n",
    "1. Generating synthetic scheduling problems\n",
    "2. Solving with greedy and genetic algorithms\n",
    "3. Comparing algorithm performance\n",
    "4. Analyzing solution quality and scalability\n",
    "\n",
    "For more examples and full benchmarks, run `python benchmark.py` from command line."
   ]
  }
 ],
 "metadata": {
  "kernelspec": {
   "display_name": "Python 3",
   "language": "python",
   "name": "python3"
  },
  "language_info": {
   "codemirror_mode": {
    "name": "ipython",
    "version": 3
   },
   "file_extension": ".py",
   "mimetype": "text/x-python",
   "name": "python",
   "nbconvert_exporter": "python",
   "pygments_lexer": "ipython3",
   "version": "3.8.0"
  }
 },
 "nbformat": 4,
 "nbformat_minor": 4
}
